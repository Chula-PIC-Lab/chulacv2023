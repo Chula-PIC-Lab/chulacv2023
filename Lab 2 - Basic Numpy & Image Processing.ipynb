{
 "cells": [
  {
   "cell_type": "markdown",
   "metadata": {},
   "source": [
    "# 2110433 - Computer Vision (2023/2)\n",
    "## Lab 2 - Basic Image Processing\n",
    "In this lab, we will play with basic image pixel manipulation in grayscale images. This notebook includes both coding and written questions. Please hand in this notebook file with all outputs and your answer"
   ]
  },
  {
   "cell_type": "markdown",
   "metadata": {},
   "source": [
    "Import OpenCV, Numpy and Matplotlib as always"
   ]
  },
  {
   "cell_type": "code",
   "execution_count": null,
   "metadata": {},
   "outputs": [],
   "source": [
    "import cv2\n",
    "import numpy as np\n",
    "from matplotlib import pyplot as plt\n",
    "from ipywidgets import interact\n",
    "import ipywidgets as widgets\n",
    "import urllib.request\n",
    "import json\n",
    "%matplotlib inline"
   ]
  },
  {
   "cell_type": "markdown",
   "metadata": {},
   "source": [
    "Use <a href=\"https://docs.opencv.org/3.4.1/d4/da8/group__imgcodecs.html#ga288b8b3da0892bd651fce07b3bbd3a56\">imread</a>  function to read image from file in <b>grayscale</b> format and display its dimension"
   ]
  },
  {
   "cell_type": "code",
   "execution_count": null,
   "metadata": {},
   "outputs": [],
   "source": [
    "inputImage = cv2.imread(\"assets/lena_std.tif\",cv2.IMREAD_GRAYSCALE)\n",
    "print('inputImage variable data type =>', type(inputImage))\n",
    "print('inputImage variable numpy data type =>', inputImage.dtype)\n",
    "print('inputImage dimensions', inputImage.shape)\n",
    "print(inputImage)"
   ]
  },
  {
   "cell_type": "markdown",
   "metadata": {},
   "source": [
    "We need to specify matplotlib imshow <a href=\"https://matplotlib.org/tutorials/colors/colormaps.html\">colormap</a> (cmap) as gray to display grayscale images."
   ]
  },
  {
   "cell_type": "code",
   "execution_count": null,
   "metadata": {},
   "outputs": [],
   "source": [
    "plt.imshow(inputImage, cmap='gray')\n",
    "plt.show()"
   ]
  },
  {
   "cell_type": "markdown",
   "metadata": {},
   "source": [
    "## Basic Numpy and Pixel Manipulation \n",
    "This section is mostly modifed from Standford CS131 Numpy Tutorial!"
   ]
  },
  {
   "cell_type": "markdown",
   "metadata": {},
   "source": [
    "### Create Numpy Array\n",
    "There are many ways to create a numpy array. For examples,\n",
    "- Convert other Python data structures to np.array\n",
    "- Use numpy functions to create new arrays (ex. np.ones, np.zeros, np.arange, np.randn, np.eye)\n",
    "- Reading from file (in this class, images and videos!)"
   ]
  },
  {
   "cell_type": "code",
   "execution_count": null,
   "metadata": {},
   "outputs": [],
   "source": [
    "# From python list\n",
    "a = np.array([[1,2,3,4,5],[6,7,8,9,10]])\n",
    "print(a, a.shape)\n",
    "\n",
    "print('===')\n",
    "# From numpy function\n",
    "b = np.eye(3)\n",
    "print(b, b.shape)\n",
    "\n",
    "# From numpy function\n",
    "b = np.eye(3)\n",
    "print(b, b.shape)\n",
    "\n",
    "print('===')\n",
    "# From file (image!)\n",
    "c = cv2.imread('assets/lena_std.tif')\n",
    "print(c.shape)"
   ]
  },
  {
   "cell_type": "markdown",
   "metadata": {},
   "source": [
    "### Numpy array attributes\n",
    "Every numpy array is a grid of elements of the same type. Numpy provides a large set of numeric datatypes that you can use to construct arrays. Numpy tries to guess a datatype when you create an array, but functions that construct arrays usually also include an optional argument to explicitly specify the datatype. Take a look at the attributes associated with a numpy array, and then we'll explore how numpy arrays determine their type."
   ]
  },
  {
   "cell_type": "code",
   "execution_count": null,
   "metadata": {},
   "outputs": [],
   "source": [
    "print(c.shape) #tuple of dimensions\n",
    "print(c.size) #total number of elements\n",
    "print(c.dtype) #array data type"
   ]
  },
  {
   "cell_type": "code",
   "execution_count": null,
   "metadata": {},
   "outputs": [],
   "source": [
    "a = np.array([1, 2])  # Let numpy choose the datatype\n",
    "b = np.array([1.0, 2.0])  # Let numpy choose the datatype (default for floting point precision in numpy is 64-bit)\n",
    "c = np.array([1, 2], dtype=np.int64)  # Specify data type\n",
    "\n",
    "print(a.dtype, b.dtype, c.dtype)"
   ]
  },
  {
   "cell_type": "markdown",
   "metadata": {},
   "source": [
    "<b>You can discovery more about each data types range</b> <a href=\"https://numpy.org/doc/stable/user/basics.types.html\">here</a>"
   ]
  },
  {
   "cell_type": "markdown",
   "metadata": {},
   "source": [
    "### Accessing array elements\n",
    "Numpy offers several ways to index into arrays. When arrays are one dimensional, indexing works just like lists. When arrays are 2 or more dimensional, you must an index for each dimension"
   ]
  },
  {
   "cell_type": "code",
   "execution_count": null,
   "metadata": {},
   "outputs": [],
   "source": [
    "# Create a 2-dimensional array (matrix)\n",
    "# [[ 1  2  3]\n",
    "#  [ 4  5  6]]\n",
    "\n",
    "a = np.array([[1,2,3],[4,5,6]])   \n",
    "print(a)\n",
    "\n",
    "# Access the 3 with array indexing\n",
    "a_3 = a[0,2]\n",
    "print(\"expecting 3, got: \", a_3)\n",
    "\n",
    "# Access the 4 with array indexing\n",
    "a_4 = a[1,0]\n",
    "print(\"expecting 4, got: \", a_4)"
   ]
  },
  {
   "cell_type": "code",
   "execution_count": null,
   "metadata": {},
   "outputs": [],
   "source": [
    "a = np.arange(16)\n",
    "print('np.arange', a)\n",
    "a = a.reshape(4,4)\n",
    "print('reshape', a.shape)\n",
    "print(a)\n",
    "\n",
    "# Access numpy slice\n",
    "print('Row 0 ,Col 1-2')\n",
    "print(a[0,1:3])\n",
    "\n",
    "print('Row 0-1,Col 1-2')\n",
    "print(a[0:2,1:3])\n",
    "\n",
    "# Expected output for b\n",
    "# [[1,2,3]\n",
    "#  [5,6,7]\n",
    "#  [9,10,11]\n",
    "#  [13,14,15]]\n",
    "\n",
    "print('==== b ====')\n",
    "b = ?\n",
    "print(b)\n",
    "\n",
    "\n",
    "# # Expected output for c\n",
    "# # [[8,9,10,11]\n",
    "# #  [12,13,14,15]]\n",
    "print('==== c ====')\n",
    "c = ?\n",
    "print(c)"
   ]
  },
  {
   "cell_type": "code",
   "execution_count": null,
   "metadata": {},
   "outputs": [],
   "source": [
    "%%time\n",
    "# Bad practice, you should not do this\n",
    "inputImageTest = inputImage.copy()\n",
    "for row in range(0,100):\n",
    "    for col in range(0,inputImageTest.shape[1]):\n",
    "        inputImageTest[row,col] = 255"
   ]
  },
  {
   "cell_type": "code",
   "execution_count": null,
   "metadata": {},
   "outputs": [],
   "source": [
    "%%time\n",
    "# Slice indexing version is a lot faster!\n",
    "inputImageTest = inputImage.copy()\n",
    "inputImageTest[0:100,:] = 255"
   ]
  },
  {
   "cell_type": "code",
   "execution_count": null,
   "metadata": {},
   "outputs": [],
   "source": [
    "plt.figure(figsize=(5,5))\n",
    "plt.imshow(inputImageTest, cmap='gray')\n",
    "plt.show()"
   ]
  },
  {
   "cell_type": "markdown",
   "metadata": {},
   "source": [
    "### Axis-based operations\n",
    "\n",
    "Now that we've covered 2d indexing, there's some important numpy functions that operate on a particular axis, so let's get hands on with sum()! Many numpy operations including sum, max, argmax, mean, standard deviation operate over a chosen axis of your array."
   ]
  },
  {
   "cell_type": "code",
   "execution_count": null,
   "metadata": {},
   "outputs": [],
   "source": [
    "a = np.arange(16)\n",
    "print('np.arange', a)\n",
    "a = a.reshape(4,4)\n",
    "print('reshape', a.shape)\n",
    "print(a)"
   ]
  },
  {
   "cell_type": "code",
   "execution_count": null,
   "metadata": {},
   "outputs": [],
   "source": [
    "meanA = np.mean(a)\n",
    "print('Array mean', meanA)\n",
    "\n",
    "meanA_1 = np.mean(a, axis=0)\n",
    "print('Array mean along first axis', meanA_1)\n",
    "\n",
    "meanA_2 = np.mean(a, axis=1)\n",
    "print('Array mean along second axis', meanA_2)\n",
    "\n",
    "print('=====')\n",
    "\n",
    "sumA = np.sum(a)\n",
    "print('Array sum', sumA)\n",
    "\n",
    "sumA_1 = np.sum(a,axis=0)\n",
    "print('Array sum along first axis', sumA_1)"
   ]
  },
  {
   "cell_type": "code",
   "execution_count": null,
   "metadata": {},
   "outputs": [],
   "source": [
    "%%time\n",
    "# Bad practice, you should not do this\n",
    "inputImageTest = inputImage.copy()\n",
    "meanImageVal = 0\n",
    "for row in range(0,inputImageTest.shape[0]):\n",
    "    for col in range(0,inputImageTest.shape[1]):\n",
    "        meanImageVal+=inputImageTest[row,col]\n",
    "meanImageVal /= inputImageTest.size\n",
    "print(meanImageVal)"
   ]
  },
  {
   "cell_type": "code",
   "execution_count": null,
   "metadata": {},
   "outputs": [],
   "source": [
    "%%time\n",
    "meanImageVal = np.mean(inputImage)\n",
    "print(meanImageVal)"
   ]
  },
  {
   "cell_type": "code",
   "execution_count": null,
   "metadata": {},
   "outputs": [],
   "source": [
    "# These function can also apply on indexing slice\n",
    "sliceA = a[0:3, 1:]\n",
    "print(sliceA, 'Sum',np.sum(sliceA), 'Mean',np.mean(sliceA), 'Std',np.std(sliceA))"
   ]
  },
  {
   "cell_type": "markdown",
   "metadata": {},
   "source": [
    "### Matrix Operation"
   ]
  },
  {
   "cell_type": "code",
   "execution_count": null,
   "metadata": {},
   "outputs": [],
   "source": [
    "x = np.array([[1,2],[3,4]], dtype=np.float64)\n",
    "y = np.array([[5,6],[7,8]], dtype=np.float64)\n",
    "\n",
    "print(\"x = \\n\", x)\n",
    "print(x.dtype)\n",
    "print(\"y = \\n\", y)\n",
    "print(y.dtype)"
   ]
  },
  {
   "cell_type": "code",
   "execution_count": null,
   "metadata": {},
   "outputs": [],
   "source": [
    "# Matrix element-wise operation\n",
    "z = x*2\n",
    "print(\"z = \\n\",z)\n",
    "\n",
    "z = x/2\n",
    "print(\"z = \\n\",z)\n",
    "\n",
    "z = x+10\n",
    "print(\"z = \\n\",z)"
   ]
  },
  {
   "cell_type": "code",
   "execution_count": null,
   "metadata": {},
   "outputs": [],
   "source": [
    "# Element wise operation\n",
    "z = x+y\n",
    "print(\"z = \\n\",z)\n",
    "\n",
    "z = x-y\n",
    "print(\"z = \\n\", z)\n",
    "\n",
    "z = x*y\n",
    "print(\"z = \\n\", z)\n",
    "\n",
    "z = np.matmul(x,y) #?\n",
    "print(\"z = \\n\", z)"
   ]
  },
  {
   "cell_type": "code",
   "execution_count": null,
   "metadata": {},
   "outputs": [],
   "source": [
    "a = np.arange(16)\n",
    "print('np.arange', a)\n",
    "a = a.reshape(4,4)\n",
    "print('reshape', a.shape)\n",
    "print(a)\n",
    "\n",
    "a[0:2, :] *=2\n",
    "print(a)"
   ]
  },
  {
   "cell_type": "code",
   "execution_count": null,
   "metadata": {},
   "outputs": [],
   "source": [
    "a = np.array([255,255,255], dtype=np.uint8)\n",
    "b = a + 1\n",
    "print(b) # ????"
   ]
  },
  {
   "cell_type": "markdown",
   "metadata": {},
   "source": [
    "## Assignment 1 - Pixel Manipulation\n",
    "Use the provided mask to crop the famous \"Lena Soderberg\" face. \n",
    "Hint: - Only <b>Basic</b> numpy knowledge is required here! "
   ]
  },
  {
   "cell_type": "code",
   "execution_count": null,
   "metadata": {},
   "outputs": [],
   "source": [
    "circleMask = np.zeros_like(inputImage)\n",
    "cv2.circle(circleMask,(300,300), 100, (255),-1)\n",
    "plt.figure(figsize=(10,10))\n",
    "plt.subplot(1,2,1)\n",
    "plt.imshow(inputImage, cmap='gray')\n",
    "plt.subplot(1,2,2)\n",
    "plt.imshow(circleMask, cmap='gray')\n",
    "plt.show()"
   ]
  },
  {
   "cell_type": "code",
   "execution_count": null,
   "metadata": {},
   "outputs": [],
   "source": [
    "### FILL HERE ### (Very easy)\n",
    "plt.imshow(inputImage, cmap='gray')\n",
    "#################"
   ]
  },
  {
   "cell_type": "markdown",
   "metadata": {},
   "source": [
    "## Basic Image Filtering\n",
    "OpenCV already provided us with a wide range of filtering operation. The most common one is image blurring which is useful for removing noises. It actually removes high frequency content (eg: noise, edges) from the image."
   ]
  },
  {
   "cell_type": "markdown",
   "metadata": {},
   "source": [
    "### 1. Mean filter using <a href=\"https://docs.opencv.org/3.4.2/d4/d86/group__imgproc__filter.html#ga8c45db9afe636703801b0b2e440fce37\">cv2.blur</a> function\n",
    "Simply takes the average of all the pixels in the kernel area"
   ]
  },
  {
   "cell_type": "code",
   "execution_count": null,
   "metadata": {},
   "outputs": [],
   "source": [
    "def cv2Blur(kernelSize):\n",
    "    blurImage = cv2.blur(inputImage,(kernelSize,kernelSize))\n",
    "    plt.figure(figsize=(5,5))\n",
    "    plt.imshow(blurImage, cmap='gray')\n",
    "    plt.show()\n",
    "interact(cv2Blur, kernelSize=widgets.IntSlider(min=1,max=35,step=2,value=1));"
   ]
  },
  {
   "cell_type": "markdown",
   "metadata": {},
   "source": [
    "### 2. Median Blur using <a href=\"https://docs.opencv.org/3.4.2/d4/d86/group__imgproc__filter.html#ga564869aa33e58769b4469101aac458f9\">cv2.medianBlur</a>\n",
    "Read the document and try to \"mimic\" the above interactive visualization! <a href=\"https://docs.opencv.org/3.4.2/d4/d86/group__imgproc__filter.html#ga564869aa33e58769b4469101aac458f9\">cv2.medianBlur</a>"
   ]
  },
  {
   "cell_type": "code",
   "execution_count": null,
   "metadata": {},
   "outputs": [],
   "source": [
    "### FILL HERE ###\n",
    "\n",
    "\n",
    "#################"
   ]
  },
  {
   "cell_type": "markdown",
   "metadata": {},
   "source": [
    "### 3. Gaussian Blur using <a href=\"https://docs.opencv.org/3.4.2/d4/d86/group__imgproc__filter.html#gaabe8c836e97159a9193fb0b11ac52cf1\">cv2.GaussianBlur</a>\n",
    "Gaussian blurring is highly effective in removing gaussian noise from the image. <a href=\"https://docs.opencv.org/3.4.2/d4/d86/group__imgproc__filter.html#gaabe8c836e97159a9193fb0b11ac52cf1\">cv2.GaussianBlur</a>"
   ]
  },
  {
   "cell_type": "code",
   "execution_count": null,
   "metadata": {},
   "outputs": [],
   "source": [
    "def cv2GaussianBlur(kernelSize,sigmaX):\n",
    "    gaussianBlurImage = cv2.GaussianBlur(inputImage,(kernelSize,kernelSize),sigmaX)\n",
    "    print(cv2.getGaussianKernel(kernelSize,sigmaX))\n",
    "    plt.figure(figsize=(5,5))\n",
    "    plt.imshow(gaussianBlurImage, cmap='gray')\n",
    "    plt.show()\n",
    "interact(cv2GaussianBlur, kernelSize=widgets.IntSlider(min=1,max=35,step=2,value=1),sigmaX=widgets.IntSlider(min=1,max=35,step=2,value=1));"
   ]
  },
  {
   "cell_type": "markdown",
   "metadata": {},
   "source": [
    "### 4. Bilateral Filter ==> <a href=\"https://docs.opencv.org/3.4.2/d4/d86/group__imgproc__filter.html#ga9d7064d478c95d60003cf839430737ed\">cv2.bilateralFilter</a>\n",
    "Bilateral filter can reduce unwanted noise very well while keeping edges fairly sharp. However, it is very slow compared to most filters.\n",
    "Read the document and try to \"mimic\" the above interactive visualization! <a href=\"https://docs.opencv.org/3.4.2/d4/d86/group__imgproc__filter.html#ga9d7064d478c95d60003cf839430737ed\">cv2.bilateralFilter</a>"
   ]
  },
  {
   "cell_type": "code",
   "execution_count": null,
   "metadata": {},
   "outputs": [],
   "source": [
    "### FILL HERE ###\n",
    "\n",
    "\n",
    "#################"
   ]
  },
  {
   "cell_type": "markdown",
   "metadata": {},
   "source": [
    "### 5. Custom Kernel Filtering ==> <a href=\"https://docs.opencv.org/3.4.2/d4/d86/group__imgproc__filter.html#ga27c049795ce870216ddfb366086b5a04\">cv2.filter2D</a>\n",
    "<a href=\"https://docs.opencv.org/3.4.2/d4/d86/group__imgproc__filter.html#ga27c049795ce870216ddfb366086b5a04\">cv2.filter2D</a>"
   ]
  },
  {
   "cell_type": "code",
   "execution_count": null,
   "metadata": {},
   "outputs": [],
   "source": [
    "xKernel = np.array([[-1,-2,-1],[0,0,0],[1,2,1]]) # Mysterious Kernel?\n",
    "yKernel = np.array([[-1,0,1],[-2,0,2],[-1,0,1]])\n",
    "filter2DOutput1 = cv2.filter2D(inputImage,-1,xKernel)\n",
    "filter2DOutput2 = cv2.filter2D(inputImage,-1,yKernel)\n",
    "plt.figure(figsize=(15,15))\n",
    "plt.subplot(1,2,1)\n",
    "plt.imshow(filter2DOutput1, cmap='gray')\n",
    "plt.subplot(1,2,2)\n",
    "plt.imshow(filter2DOutput2, cmap='gray')\n",
    "plt.show()\n",
    "\n",
    "'''\n",
    "What are these mysterious kernels do in your opinion?\n",
    "\n",
    "'''"
   ]
  },
  {
   "cell_type": "markdown",
   "metadata": {},
   "source": [
    "### 6. Custom Kernel ==> Image Sharpening\n",
    "More details in next class :)"
   ]
  },
  {
   "cell_type": "code",
   "execution_count": null,
   "metadata": {},
   "outputs": [],
   "source": [
    "sharpenKernel = np.array([[-1,-1,-1], [-1,9,-1], [-1,-1,-1]])\n",
    "sharpenOutput = cv2.filter2D(inputImage, -1, sharpenKernel)\n",
    "plt.figure(figsize=(15,15))\n",
    "plt.subplot(1,2,1)\n",
    "plt.imshow(inputImage, cmap='gray')\n",
    "plt.subplot(1,2,2)\n",
    "plt.imshow(sharpenOutput, cmap='gray')\n",
    "plt.show()"
   ]
  },
  {
   "cell_type": "markdown",
   "metadata": {},
   "source": [
    "## Assignment 2 - Which filter is the best?\n",
    "The provided api will generate random artificial noises into the image. Your task is to implement the best way <b>(in your opinion)</b> to remove/eliminate those noises. Don't forget to state your reason in the following block. The answer can be in either Thai or English."
   ]
  },
  {
   "cell_type": "code",
   "execution_count": null,
   "metadata": {},
   "outputs": [],
   "source": [
    "out1 = np.array(json.loads(urllib.request.urlopen('https://www.piclab.ai/classes/cv2023/lab2/noise1').read().decode('utf-8')),dtype=np.uint8)\n",
    "plt.figure(figsize=(5,5))\n",
    "plt.imshow(out1, cmap='gray')\n",
    "plt.show()\n",
    "print(out1.dtype)"
   ]
  },
  {
   "cell_type": "code",
   "execution_count": null,
   "metadata": {},
   "outputs": [],
   "source": [
    "### FILL HERE ###\n",
    "\n",
    "\n",
    "#################\n",
    "'''\n",
    "State your reason in this block!\n",
    "\n",
    "'''"
   ]
  },
  {
   "cell_type": "code",
   "execution_count": null,
   "metadata": {},
   "outputs": [],
   "source": [
    "out2 = np.array(json.loads(urllib.request.urlopen('https://www.piclab.ai/classes/cv2023/lab2/noise2').read().decode('utf-8')),dtype=np.uint8)\n",
    "plt.figure(figsize=(5,5))\n",
    "plt.imshow(out2, cmap='gray')\n",
    "plt.show()"
   ]
  },
  {
   "cell_type": "code",
   "execution_count": null,
   "metadata": {},
   "outputs": [],
   "source": [
    "### FILL HERE ###\n",
    "\n",
    "\n",
    "#################\n",
    "'''\n",
    "State your reason in this block!\n",
    "\n",
    "'''"
   ]
  },
  {
   "cell_type": "markdown",
   "metadata": {},
   "source": [
    "## Assignment 3 - Implementing your own filter2D function\n",
    "![title](assets/Lab2-filter2D.png)\n",
    "\n",
    "In this part, you will implement the image filter function by yourself. This function should have the function signature as shown below.\n",
    "```python\n",
    "def myFilter2D(inputImage, kernel, paddingMethod=\"constant\", paddingValue=0):\n",
    "    if paddingMethod == \"constant\":\n",
    "        ???\n",
    "    elif paddingMethod == \"replicate\":\n",
    "        ???\n",
    "    elif paddingMethod == \"valid\":\n",
    "        ???\n",
    "    else\n",
    "        print(\"Undefined padding method\")\n",
    "    return outputImage\n",
    "```\n",
    "You must implement 3 padding method\n",
    "1. Constant (\"constant\")\n",
    "2. Replicate border value (\"replicate\")\n",
    "3. No Padding (\"valid\")\n",
    "\n",
    "\n",
    "<b>Do not use OpenCV filter2D !! You must implement this function by your own</b><br>\n",
    "<b>Hint</b> \n",
    "- Numpy has a padding function! Use Google!!!\n",
    "- Do not forget about each data type range. More details can be read from <a href=\"https://numpy.org/doc/stable/user/basics.types.html\">here</a>"
   ]
  },
  {
   "cell_type": "code",
   "execution_count": null,
   "metadata": {},
   "outputs": [],
   "source": [
    "### FILL HERE ###\n"
   ]
  }
 ],
 "metadata": {
  "kernelspec": {
   "display_name": "Python 3 (ipykernel)",
   "language": "python",
   "name": "python3"
  },
  "language_info": {
   "codemirror_mode": {
    "name": "ipython",
    "version": 3
   },
   "file_extension": ".py",
   "mimetype": "text/x-python",
   "name": "python",
   "nbconvert_exporter": "python",
   "pygments_lexer": "ipython3",
   "version": "3.11.7"
  },
  "vscode": {
   "interpreter": {
    "hash": "f76cd2d4fd20811c23eb829e83ca393e5041b709160d58ae98caf046375c89cb"
   }
  }
 },
 "nbformat": 4,
 "nbformat_minor": 4
}
