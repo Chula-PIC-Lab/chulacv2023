{
 "cells": [
  {
   "attachments": {},
   "cell_type": "markdown",
   "metadata": {},
   "source": [
    "# 2110433 - Computer Vision (2023/2)\n",
    "## Lab 1 - Introduction\n",
    "In this lab, we will introduce you tools which often used in our classes OpenCV. OpenCV is a library mainly aimed at real-time computer vision, available in many fundermantal programming languages, such as C++, Java, Javascript and Python"
   ]
  },
  {
   "cell_type": "markdown",
   "metadata": {},
   "source": [
    "The following code will import OpenCV (cv2) and numpy. In C++ OpenCV, we usually use Mat to warp around almost everything. In the previous years, we typically use C++ as a main lanaguge, however, we saw that C++ Mat usually confuse CV beginner a lot!. Hence,we switch to more simplifiled language, Python. Thanks to OpenCV developer and simplicity of Python, Mat had been warpped around by using well-known numpy array structures (We assume that you are expert in numpy since 2110101 COM PROG!)"
   ]
  },
  {
   "cell_type": "code",
   "execution_count": null,
   "metadata": {},
   "outputs": [],
   "source": [
    "import cv2\n",
    "import numpy as np"
   ]
  },
  {
   "cell_type": "markdown",
   "metadata": {},
   "source": [
    "## Basic Functionality - Read Image from file\n",
    "We will use <a href=\"https://docs.opencv.org/3.4.1/d4/da8/group__imgcodecs.html#ga288b8b3da0892bd651fce07b3bbd3a56\">imread</a>  function to read image from file to our program"
   ]
  },
  {
   "cell_type": "code",
   "execution_count": null,
   "metadata": {},
   "outputs": [],
   "source": [
    "inputImage = cv2.imread(\"assets/lena_std.tif\")\n",
    "print('inputImage variable data type =>', type(inputImage))\n",
    "print('inputImage variable numpy data type =>', inputImage.dtype)\n",
    "print('inputImage dimensions', inputImage.shape)"
   ]
  },
  {
   "cell_type": "markdown",
   "metadata": {},
   "source": [
    "Show image using OpenCV GUI library <a href=\"https://docs.opencv.org/3.4.1/d7/dfc/group__highgui.html#ga453d42fe4cb60e5723281a89973ee563\">imshow</a>. A window will pop up on your computer. Press enter to close it"
   ]
  },
  {
   "cell_type": "code",
   "execution_count": null,
   "metadata": {},
   "outputs": [],
   "source": [
    "cv2.imshow(\"Test Image\",inputImage) \n",
    "cv2.waitKey(0)\n",
    "cv2.destroyWindow(\"Test Image\") ### This won't work on macOS"
   ]
  },
  {
   "cell_type": "markdown",
   "metadata": {},
   "source": [
    "Show image using matplotlib"
   ]
  },
  {
   "cell_type": "code",
   "execution_count": null,
   "metadata": {},
   "outputs": [],
   "source": [
    "from matplotlib import pyplot as plt\n",
    "%matplotlib inline"
   ]
  },
  {
   "cell_type": "code",
   "execution_count": null,
   "metadata": {},
   "outputs": [],
   "source": [
    "# Image will display inside this notebook cell , however, image look a bit wired isn't it?\n",
    "plt.imshow(inputImage)\n",
    "plt.show()"
   ]
  },
  {
   "cell_type": "markdown",
   "metadata": {},
   "source": [
    "The displayed image looks wired because OpenCV use <b>BGR</b> arragement but matplotlib use RGB array style. Use your old numpy knowledge to swap from BGR to RGB\n",
    "![title](assets/Lab1-BGR_Arragement.png)"
   ]
  },
  {
   "cell_type": "code",
   "execution_count": null,
   "metadata": {},
   "outputs": [],
   "source": [
    "inputImageRGB = inputImage.copy()\n",
    "### FILL HERE ###\n",
    "inputImageRGB = ?\n",
    "#################\n",
    "plt.imshow(inputImageRGB)\n",
    "plt.show()"
   ]
  },
  {
   "cell_type": "markdown",
   "metadata": {},
   "source": [
    "You can use OpenCV <a href=\"https://docs.opencv.org/3.4.1/d7/d1b/group__imgproc__misc.html#ga397ae87e1288a81d2363b61574eb8cab\">cvtColor</a> to convert between <a href=\"https://docs.opencv.org/3.4.1/d7/d1b/group__imgproc__misc.html#ga4e0972be5de079fed4e3a10e24ef5ef0\">available colorspace.</a>"
   ]
  },
  {
   "cell_type": "code",
   "execution_count": null,
   "metadata": {},
   "outputs": [],
   "source": [
    "inputImageRGB_cvt = cv2.cvtColor(inputImage,cv2.COLOR_BGR2RGB)\n",
    "plt.imshow(inputImageRGB_cvt)\n",
    "plt.show()"
   ]
  },
  {
   "cell_type": "markdown",
   "metadata": {},
   "source": [
    "## Basic Functionality - Utilize your webcam"
   ]
  },
  {
   "cell_type": "markdown",
   "metadata": {},
   "source": [
    "Use OpenCV <a href=\"https://docs.opencv.org/3.4.1/d8/dfe/classcv_1_1VideoCapture.html\">VideoCapture</a> and imshow to display image from your webcam"
   ]
  },
  {
   "cell_type": "code",
   "execution_count": null,
   "metadata": {},
   "outputs": [],
   "source": [
    "# As mentioned before, cv2.imshow won't work on macOS !!\n",
    "inputStream = cv2.VideoCapture(0)\n",
    "try:\n",
    "    while True:\n",
    "        _, videoFrame = inputStream.read()\n",
    "\n",
    "        # videoFrame empty case handler\n",
    "        if videoFrame is not None:\n",
    "            cv2.imshow(\"Live From Webcam\", videoFrame)\n",
    "        else:\n",
    "            print(\"Cannot Open Webcam, hw problem?\")\n",
    "            break\n",
    "\n",
    "        # Press q to close window\n",
    "        if cv2.waitKey(1) == ord('q'):\n",
    "            cv2.destroyWindow(\"Live From Webcam\")\n",
    "            break\n",
    "except KeyboardInterrupt:\n",
    "    cv2.destroyWindow(\"Live From Webcam\")\n",
    "    print (\"Stream stopped\")\n",
    "inputStream.release()"
   ]
  },
  {
   "cell_type": "markdown",
   "metadata": {},
   "source": [
    "Use IPython feature to display image from your webcam inside this notebook"
   ]
  },
  {
   "cell_type": "code",
   "execution_count": null,
   "metadata": {},
   "outputs": [],
   "source": [
    "from IPython.display import clear_output\n",
    "import IPython.display"
   ]
  },
  {
   "cell_type": "code",
   "execution_count": null,
   "metadata": {},
   "outputs": [],
   "source": [
    "# You can press \"Interupt Kernel Button to stop webcam\" \n",
    "# If blinking artifact occour on your scrren, try to use chrome.\n",
    "inputStream = cv2.VideoCapture(0)\n",
    "try:\n",
    "    while True:\n",
    "        _, videoFrame = inputStream.read()\n",
    "        if videoFrame is not None:\n",
    "            # Encode image as jpg numpy array\n",
    "            _, buf = cv2.imencode(\".jpg\", videoFrame)\n",
    "            # Draw result\n",
    "            IPython.display.display(IPython.display.Image(data=buf))\n",
    "            # Discard old output\n",
    "            clear_output(wait=True)\n",
    "        else:\n",
    "            print(\"Cannot Open Webcam, hw problem?\")\n",
    "            break\n",
    "except KeyboardInterrupt:\n",
    "    print (\"Stream stopped\")\n",
    "inputStream.release()"
   ]
  },
  {
   "cell_type": "markdown",
   "metadata": {},
   "source": [
    "Use OpenCV <a href=\"https://docs.opencv.org/3.4.1/dd/d9e/classcv_1_1VideoWriter.html\">VideoWriter</a> to save image stream to video file"
   ]
  },
  {
   "cell_type": "code",
   "execution_count": null,
   "metadata": {},
   "outputs": [],
   "source": [
    "inputStream = cv2.VideoCapture(0)\n",
    "# Retrieve fps\n",
    "inputFPS = int(60)\n",
    "inputWidth = int(inputStream.get(cv2.CAP_PROP_FRAME_WIDTH))\n",
    "inputHeight = int(inputStream.get(cv2.CAP_PROP_FRAME_HEIGHT))\n",
    "\n",
    "outputStream = cv2.VideoWriter('outputStream.mp4',\n",
    "                               cv2.VideoWriter_fourcc('x', '2', '6', '4'),\n",
    "                               inputFPS, (inputWidth, inputHeight))\n",
    "try:\n",
    "    while True:\n",
    "        _, videoFrame = inputStream.read()\n",
    "        if videoFrame is not None:\n",
    "            # Write frame to outputStream\n",
    "            outputStream.write(videoFrame)\n",
    "            # Encode image as jpg numpy array\n",
    "            _, buffer = cv2.imencode(\".jpg\", videoFrame)\n",
    "            # Draw result\n",
    "            IPython.display.display(IPython.display.Image(data=buffer))\n",
    "            # Discard old output\n",
    "            clear_output(wait=True)\n",
    "        else:\n",
    "            print(\"Cannot Open Webcam, hw problem?\")\n",
    "            break\n",
    "except KeyboardInterrupt:\n",
    "    print(\"Stream stopped\")\n",
    "outputStream.release()\n",
    "inputStream.release()"
   ]
  },
  {
   "cell_type": "markdown",
   "metadata": {},
   "source": [
    "Open recoded video"
   ]
  },
  {
   "cell_type": "code",
   "execution_count": null,
   "metadata": {},
   "outputs": [],
   "source": [
    "inputStream = cv2.VideoCapture('outputStream.mp4')\n",
    "try:\n",
    "    while True:\n",
    "        _, videoFrame = inputStream.read()\n",
    "        if videoFrame is not None:\n",
    "            # Encode image as jpg numpy array\n",
    "            _, buffer = cv2.imencode(\".jpg\", videoFrame)\n",
    "            # Draw result\n",
    "            IPython.display.display(IPython.display.Image(data=buffer))\n",
    "            # Discard old output\n",
    "            clear_output(wait=True)\n",
    "        else:\n",
    "            print(\"End of File\")\n",
    "            break\n",
    "except KeyboardInterrupt:\n",
    "    print(\"Stop by user\")\n",
    "inputStream.release()"
   ]
  },
  {
   "cell_type": "markdown",
   "metadata": {},
   "source": [
    "## Assignment 1 - Boomerang Clone\n",
    "We think that some of you already know the popular Boomerang app on smartphone.\n",
    "In this assignment, we will build a Boomerage clone using your webcam and basic Numpy & OpenCV knowledge. Boomerange video samples are shown below."
   ]
  },
  {
   "cell_type": "code",
   "execution_count": null,
   "metadata": {
    "scrolled": true
   },
   "outputs": [],
   "source": [
    "from IPython.display import YouTubeVideo\n",
    "YouTubeVideo(id=\"OdxmjlqghtU\",width=600,height=300)"
   ]
  },
  {
   "cell_type": "markdown",
   "metadata": {},
   "source": [
    "### Retrieve video from webcam and store in somewhere"
   ]
  },
  {
   "cell_type": "code",
   "execution_count": null,
   "metadata": {},
   "outputs": [],
   "source": [
    "### FILL HERE ###\n",
    "???\n",
    "#################\n",
    "# Wait 2 second before start\n",
    "import time\n",
    "for i in range(2):\n",
    "    print(str(i)+\"!\")\n",
    "    time.sleep(1)\n",
    "print(\"Action!\")\n",
    "# Action!\n",
    "inputStream = cv2.VideoCapture(0)\n",
    "try:\n",
    "    while True:\n",
    "        _, videoFrame = inputStream.read()\n",
    "        if videoFrame is not None:\n",
    "            \n",
    "            ### Do something with videoFrame Here ###\n",
    "            ### FILL HERE ###\n",
    "            ???\n",
    "            #################\n",
    "            \n",
    "            # Encode image as jpg numpy array\n",
    "            _, buf = cv2.imencode(\".jpg\", videoFrame)\n",
    "            # Draw result\n",
    "            IPython.display.display(IPython.display.Image(data=buf))\n",
    "            # Discard old output\n",
    "            clear_output(wait=True)\n",
    "        else:\n",
    "            print(\"Cannot Open Webcam, hw problem?\")\n",
    "            break\n",
    "except KeyboardInterrupt:\n",
    "    print (\"Stream stopped\")\n",
    "inputStream.release()"
   ]
  },
  {
   "cell_type": "markdown",
   "metadata": {},
   "source": [
    "### Reverse and Concatenate Video"
   ]
  },
  {
   "cell_type": "code",
   "execution_count": null,
   "metadata": {},
   "outputs": [],
   "source": [
    "### TODO ###\n",
    "videoFramesReverse ?\n",
    "boomerageFrames = ?"
   ]
  },
  {
   "cell_type": "markdown",
   "metadata": {},
   "source": [
    "### Write them to file"
   ]
  },
  {
   "cell_type": "code",
   "execution_count": null,
   "metadata": {},
   "outputs": [],
   "source": [
    "### TODO ###\n",
    "inputWidth, inputHeight = videoFrames[0].shape[1], videoFrames[0].shape[0]\n",
    "print(inputWidth,inputHeight)\n",
    "\n",
    "outputStream = cv2.VideoWriter('outputBoomerang.mp4',\n",
    "                               cv2.VideoWriter_fourcc('x', '2', '6', '4'),\n",
    "                               25, (inputWidth, inputHeight))\n",
    "for frame in boomerageFrames:\n",
    "        # Write frame to outputStream\n",
    "        outputStream.write(frame)\n",
    "        # Encode image as jpg numpy array\n",
    "        _, buffer = cv2.imencode(\".jpg\", videoFrame)\n",
    "        # Draw result\n",
    "        IPython.display.display(IPython.display.Image(data=buffer))\n",
    "        # Discard old output\n",
    "        clear_output(wait=True)\n",
    "outputStream.release()"
   ]
  },
  {
   "cell_type": "markdown",
   "metadata": {},
   "source": [
    "## IPyWidget Test Section\n",
    "Please make sure that after run the following block slider widgets are appear. We will use them in next lab. Press <a href=\"https://ipywidgets.readthedocs.io/en/stable/user_install.html\">here</a> to see installation instruction."
   ]
  },
  {
   "cell_type": "code",
   "execution_count": null,
   "metadata": {},
   "outputs": [],
   "source": [
    "import ipywidgets as widgets\n",
    "widgets.FloatSlider()"
   ]
  },
  {
   "cell_type": "code",
   "execution_count": null,
   "metadata": {},
   "outputs": [],
   "source": [
    "widgets.IntSlider()"
   ]
  },
  {
   "cell_type": "code",
   "execution_count": null,
   "metadata": {},
   "outputs": [],
   "source": []
  }
 ],
 "metadata": {
  "kernelspec": {
   "display_name": "base",
   "language": "python",
   "name": "python3"
  },
  "language_info": {
   "codemirror_mode": {
    "name": "ipython",
    "version": 3
   },
   "file_extension": ".py",
   "mimetype": "text/x-python",
   "name": "python",
   "nbconvert_exporter": "python",
   "pygments_lexer": "ipython3",
   "version": "3.11.7"
  },
  "vscode": {
   "interpreter": {
    "hash": "f76cd2d4fd20811c23eb829e83ca393e5041b709160d58ae98caf046375c89cb"
   }
  }
 },
 "nbformat": 4,
 "nbformat_minor": 4
}
