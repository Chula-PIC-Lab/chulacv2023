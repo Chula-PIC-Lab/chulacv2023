{
  "cells": [
    {
      "cell_type": "markdown",
      "metadata": {
        "id": "r7GTSH1NwhxT"
      },
      "source": [
        "# **2110433 - Computer Vision (2023/2)**\n",
        "#**Lab 9 - Modern Object Detection [Homework]** <br>\n",
        "In this lab, we will learn how to use MMDetection to perform object detection in the provided real world dataset using PyTorch. This notebook includes both coding and written questions. Please hand in this notebook file with all outputs and your answer.\n",
        "\n",
        "**Collaboration is encouraged in this course.** You must turn in your own write ups of all problems. If you collaborate with others, you must put the names and ids of the students you worked with in below block.\n",
        "\n",
        "Collaboration List:\n",
        "- ...\n",
        "- ...\n"
      ]
    },
    {
      "cell_type": "markdown",
      "metadata": {
        "id": "ACywHh_DxHJE"
      },
      "source": [
        "# Assignment 1 : Parasite Detection\n",
        "![alt text](https://icip2022challenge.piclab.ai/wp-content/uploads/2022/01/parasite_egg_11_with_size.png)\n",
        "\n",
        "In this assignment you have to replace YOUR_STUDENT_ID_WITH21 variable with your student id (in integer). There will be 2 sets of data: train and test\n",
        "\n",
        "By using the knowledge from the lab and lecture, you have to train object detection model and tested on unknown label dataset!\n",
        "\n",
        "\n",
        "\n",
        "Scoreboard URL : https://www.piclab.ai/classes/cv2023/lab9/scoreboard"
      ]
    },
    {
      "cell_type": "markdown",
      "metadata": {
        "id": "jVfTXKTpyBBe"
      },
      "source": [
        "### Hints\n",
        "- The parasite dataset was created using COCO dataset format\n",
        "- If you use MMDetection, the dataset is ready to use\n",
        "- If you want to use Ultralytics, you have to format to YOLO dataset format (use Fiftyone!)\n"
      ]
    },
    {
      "cell_type": "markdown",
      "metadata": {
        "id": "ByvSDpMOxwjy"
      },
      "source": [
        "## GPU Status Check"
      ]
    },
    {
      "cell_type": "code",
      "execution_count": null,
      "metadata": {
        "id": "Bxk4HiuDxw3X"
      },
      "outputs": [],
      "source": [
        "!nvidia-smi"
      ]
    },
    {
      "cell_type": "markdown",
      "metadata": {
        "id": "yp12w8JUxzmm"
      },
      "source": [
        "## Download and inspect parasite dataset"
      ]
    },
    {
      "cell_type": "code",
      "execution_count": null,
      "metadata": {
        "colab": {
          "base_uri": "https://localhost:8080/"
        },
        "id": "G2e5Wv2LxyH5",
        "outputId": "40c14eb1-8a85-4527-a943-f518c3123ea7"
      },
      "outputs": [],
      "source": [
        "!pip install --upgrade gdown\n",
        "!gdown https://drive.google.com/uc?id=1RVluBzZvJ8mWwA5AuB2PklbaoK60uPMF\n",
        "!gdown https://drive.google.com/uc?id=1kvBxmC1o0vE2ef2CJqhLaj9V4TD72oW3\n",
        "!unzip parasite_train.zip\n",
        "!unzip parasite_test.zip"
      ]
    },
    {
      "cell_type": "markdown",
      "metadata": {
        "id": "S_FOCV1fxqhD"
      },
      "source": [
        "## Your model description goes here: ###\n",
        "WRITE HERE"
      ]
    },
    {
      "cell_type": "markdown",
      "metadata": {
        "id": "QEh232Sr2TwM"
      },
      "source": [
        "### Dataset Exploration\n",
        "We will use pycocotools to explore this dataset."
      ]
    },
    {
      "cell_type": "code",
      "execution_count": null,
      "metadata": {
        "id": "nTaQtHqO2WHS"
      },
      "outputs": [],
      "source": [
        "from pycocotools.coco import COCO\n",
        "import numpy as np\n",
        "import cv2\n",
        "import matplotlib.pyplot as plt"
      ]
    },
    {
      "cell_type": "code",
      "execution_count": null,
      "metadata": {
        "colab": {
          "base_uri": "https://localhost:8080/"
        },
        "id": "qZi0oVt12X4L",
        "outputId": "2b6f4bda-2d30-4c61-87e6-736072408d8d"
      },
      "outputs": [],
      "source": [
        "trainLabelFile='parasite_train/labels.json'\n",
        "# initialize COCO api for instance annotations\n",
        "trainCOCOBinding = COCO(trainLabelFile)"
      ]
    },
    {
      "cell_type": "code",
      "execution_count": null,
      "metadata": {
        "colab": {
          "base_uri": "https://localhost:8080/",
          "height": 527
        },
        "id": "TvbPIRCA2dTN",
        "outputId": "7f13b180-f11f-434a-a220-7873d0524336"
      },
      "outputs": [],
      "source": [
        "#display COCO categories and supercategories\n",
        "cats = trainCOCOBinding.loadCats(trainCOCOBinding.getCatIds())\n",
        "nms=[cat['name'] for cat in cats]\n",
        "print('COCO categories: \\n{}\\n'.format(', '.join(nms)))\n",
        "\n",
        "# get all images containing given categories, select one at random\n",
        "catIds = trainCOCOBinding.getCatIds(catNms=['Hymenolepis diminuta',]);\n",
        "imgIds = trainCOCOBinding.getImgIds(catIds=catIds );\n",
        "\n",
        "randomImgId = np.random.randint(0,len(imgIds))\n",
        "sampleImageData = trainCOCOBinding.loadImgs(randomImgId)[0]\n",
        "\n",
        "print('Image Data >>', sampleImageData)\n",
        "\n",
        "sampleImage = cv2.imread('parasite_train/data/'+sampleImageData['file_name'])\n",
        "\n",
        "annIds = trainCOCOBinding.getAnnIds(imgIds=randomImgId, iscrowd=None)\n",
        "boxes = trainCOCOBinding.loadAnns(annIds)\n",
        "print('Box Data', boxes)\n",
        "\n",
        "for box in boxes:\n",
        "  x,y,w,h = box['bbox']\n",
        "  cv2.rectangle(sampleImage, (int(x), int(y)), (int(x+w), int(y+h)), (0,255,0), 5)\n",
        "\n",
        "sampleImage = cv2.cvtColor(sampleImage, cv2.COLOR_BGR2RGB)\n",
        "\n",
        "plt.imshow(sampleImage)\n",
        "plt.show()"
      ]
    },
    {
      "cell_type": "markdown",
      "metadata": {
        "id": "-u2iS_Ws3ekp"
      },
      "source": [
        "### Training"
      ]
    },
    {
      "cell_type": "code",
      "execution_count": null,
      "metadata": {
        "id": "HqqYBTEd3bLg"
      },
      "outputs": [],
      "source": []
    },
    {
      "cell_type": "markdown",
      "metadata": {
        "id": "Ivo291W34OZq"
      },
      "source": [
        "### Inference on test set!"
      ]
    },
    {
      "cell_type": "code",
      "execution_count": null,
      "metadata": {
        "id": "qHsvTee43hBu"
      },
      "outputs": [],
      "source": []
    },
    {
      "cell_type": "markdown",
      "metadata": {
        "id": "Lc0oiTJIawrv"
      },
      "source": [
        "### Submit Results"
      ]
    },
    {
      "cell_type": "markdown",
      "metadata": {
        "id": "8VPHLrjTfcMU"
      },
      "source": [
        "The results must follows this templates\n",
        "\n",
        "{“annotations”: [\n",
        "{“id”: int,\n",
        "“file_name”: str,\n",
        "“category_id”: int,\n",
        "“bbox”: [x,y,width,height]}\n",
        "]}"
      ]
    },
    {
      "cell_type": "markdown",
      "metadata": {
        "id": "Ki1uqfKIpKaB"
      },
      "source": [
        "\n",
        "\n",
        "```\n",
        "\"categories\": [\n",
        "        {\n",
        "            \"id\": 0,\n",
        "            \"name\": \"Capillaria philippinensis\",\n",
        "        },\n",
        "        {\n",
        "            \"id\": 1,\n",
        "            \"name\": \"Enterobius vermicularis\",\n",
        "        },\n",
        "        {\n",
        "            \"id\": 2,\n",
        "            \"name\": \"Hymenolepis diminuta\",\n",
        "        },\n",
        "        {\n",
        "            \"id\": 3,\n",
        "            \"name\": \"Hymenolepis nana\",\n",
        "        },\n",
        "        {\n",
        "            \"id\": 4,\n",
        "            \"name\": \"Paragonimus spp\",\n",
        "        }\n",
        "    ]\n",
        "```\n",
        "\n"
      ]
    },
    {
      "cell_type": "code",
      "execution_count": null,
      "metadata": {
        "id": "HjflKm1xoub_"
      },
      "outputs": [],
      "source": [
        "## Sample annotations\n",
        "annotations = dict()\n",
        "annotations['annotations'] = list()\n",
        "annotations['annotations'] += [{\"id\":2, \"file_name\":\"Hymenolepis nana_0002.jpg\",\"category_id\":3,\"bbox\":[549.0,459.0,178.0,151.0]}]\n",
        "annotations['annotations'] += [{\"id\":1, \"file_name\":\"Hymenolepis nana_0052.jpg\",\"category_id\":3,\"bbox\":[539.0,364.0,218.0,215.0]}]"
      ]
    },
    {
      "cell_type": "code",
      "execution_count": null,
      "metadata": {
        "id": "eAceq9Op6KT0"
      },
      "outputs": [],
      "source": [
        "from mmdet.core import  bbox2result\n",
        "\n",
        "image_dir = '/content/parasite_test/data'\n",
        "\n",
        "annotations = dict()\n",
        "annotations['annotations'] = list()\n",
        "id = 0\n",
        "for filename in os.listdir(image_dir):\n",
        "    if filename.endswith('.jpg'):\n",
        "        image_path = os.path.join(image_dir, filename)\n",
        "\n",
        "        ### run model\n",
        "        ???\n",
        "\n",
        "        coco_result = [{\"id\":??, \"file_name\":??,\"category_id\":??,\"bbox\":[??,??,??,??]}]\n",
        "\n",
        "        annotations['annotations']+=coco_result\n",
        "        # break"
      ]
    },
    {
      "cell_type": "code",
      "execution_count": null,
      "metadata": {
        "colab": {
          "base_uri": "https://localhost:8080/"
        },
        "id": "T84tJLpVL2zo",
        "outputId": "3349ffb0-8530-4d59-f867-24929eeb8477"
      },
      "outputs": [],
      "source": [
        "import requests\n",
        "sendDict = { 'studentID':'5630008021', 'results':  annotations }\n",
        "response = requests.post('https://www.piclab.ai/classes/cv2023/lab9/scoreboard/submitLab9',headers={'Content-Type': 'application/json' }, json=sendDict)\n",
        "print(response.text)"
      ]
    },
    {
      "cell_type": "code",
      "execution_count": null,
      "metadata": {
        "id": "XJGI-EPWqL55"
      },
      "outputs": [],
      "source": []
    }
  ],
  "metadata": {
    "accelerator": "GPU",
    "colab": {
      "gpuType": "T4",
      "provenance": []
    },
    "kernelspec": {
      "display_name": "Python 3",
      "name": "python3"
    },
    "language_info": {
      "name": "python"
    }
  },
  "nbformat": 4,
  "nbformat_minor": 0
}
